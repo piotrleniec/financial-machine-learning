{
 "cells": [
  {
   "cell_type": "code",
   "execution_count": 1,
   "metadata": {
    "collapsed": true
   },
   "outputs": [],
   "source": [
    "import matplotlib.pyplot as plt\n",
    "import pandas_datareader as pdr\n",
    "import pandas as pd\n",
    "from sklearn.linear_model import LinearRegression\n",
    "import numpy as np\n",
    "import datetime\n",
    "import itertools"
   ]
  },
  {
   "cell_type": "code",
   "execution_count": 2,
   "metadata": {
    "scrolled": true
   },
   "outputs": [],
   "source": [
    "aapl = pdr.get_data_yahoo('AAPL')\n",
    "msft = pdr.get_data_yahoo('MSFT')\n",
    "spy = pdr.get_data_yahoo('SPY')"
   ]
  },
  {
   "cell_type": "code",
   "execution_count": 3,
   "metadata": {
    "collapsed": true
   },
   "outputs": [],
   "source": [
    "def daily_returns(series):\n",
    "    dr = series[1:] / series[:-1].values - 1\n",
    "    dr.loc[datetime.datetime(2009, 12, 31)] = 0\n",
    "    \n",
    "    return dr"
   ]
  },
  {
   "cell_type": "code",
   "execution_count": 4,
   "metadata": {
    "scrolled": false
   },
   "outputs": [
    {
     "data": {
      "text/html": [
       "<div>\n",
       "<style>\n",
       "    .dataframe thead tr:only-child th {\n",
       "        text-align: right;\n",
       "    }\n",
       "\n",
       "    .dataframe thead th {\n",
       "        text-align: left;\n",
       "    }\n",
       "\n",
       "    .dataframe tbody tr th {\n",
       "        vertical-align: top;\n",
       "    }\n",
       "</style>\n",
       "<table border=\"1\" class=\"dataframe\">\n",
       "  <thead>\n",
       "    <tr style=\"text-align: right;\">\n",
       "      <th></th>\n",
       "      <th>AAPL</th>\n",
       "      <th>AAPL Daily Returns</th>\n",
       "      <th>MSFT</th>\n",
       "      <th>MSFT Daily Returns</th>\n",
       "      <th>SPY</th>\n",
       "      <th>SPY Daily Returns</th>\n",
       "    </tr>\n",
       "    <tr>\n",
       "      <th>Date</th>\n",
       "      <th></th>\n",
       "      <th></th>\n",
       "      <th></th>\n",
       "      <th></th>\n",
       "      <th></th>\n",
       "      <th></th>\n",
       "    </tr>\n",
       "  </thead>\n",
       "  <tbody>\n",
       "    <tr>\n",
       "      <th>2009-12-31</th>\n",
       "      <td>30.104286</td>\n",
       "      <td>0.000000</td>\n",
       "      <td>30.480000</td>\n",
       "      <td>0.000000</td>\n",
       "      <td>111.440002</td>\n",
       "      <td>0.000000</td>\n",
       "    </tr>\n",
       "    <tr>\n",
       "      <th>2010-01-04</th>\n",
       "      <td>30.572857</td>\n",
       "      <td>0.015565</td>\n",
       "      <td>30.950001</td>\n",
       "      <td>0.015420</td>\n",
       "      <td>113.330002</td>\n",
       "      <td>0.016960</td>\n",
       "    </tr>\n",
       "    <tr>\n",
       "      <th>2010-01-05</th>\n",
       "      <td>30.625713</td>\n",
       "      <td>0.001729</td>\n",
       "      <td>30.959999</td>\n",
       "      <td>0.000323</td>\n",
       "      <td>113.629997</td>\n",
       "      <td>0.002647</td>\n",
       "    </tr>\n",
       "    <tr>\n",
       "      <th>2010-01-06</th>\n",
       "      <td>30.138571</td>\n",
       "      <td>-0.015906</td>\n",
       "      <td>30.770000</td>\n",
       "      <td>-0.006137</td>\n",
       "      <td>113.709999</td>\n",
       "      <td>0.000704</td>\n",
       "    </tr>\n",
       "    <tr>\n",
       "      <th>2010-01-07</th>\n",
       "      <td>30.082857</td>\n",
       "      <td>-0.001849</td>\n",
       "      <td>30.450001</td>\n",
       "      <td>-0.010400</td>\n",
       "      <td>114.190002</td>\n",
       "      <td>0.004221</td>\n",
       "    </tr>\n",
       "  </tbody>\n",
       "</table>\n",
       "</div>"
      ],
      "text/plain": [
       "                 AAPL  AAPL Daily Returns       MSFT  MSFT Daily Returns  \\\n",
       "Date                                                                       \n",
       "2009-12-31  30.104286            0.000000  30.480000            0.000000   \n",
       "2010-01-04  30.572857            0.015565  30.950001            0.015420   \n",
       "2010-01-05  30.625713            0.001729  30.959999            0.000323   \n",
       "2010-01-06  30.138571           -0.015906  30.770000           -0.006137   \n",
       "2010-01-07  30.082857           -0.001849  30.450001           -0.010400   \n",
       "\n",
       "                   SPY  SPY Daily Returns  \n",
       "Date                                       \n",
       "2009-12-31  111.440002           0.000000  \n",
       "2010-01-04  113.330002           0.016960  \n",
       "2010-01-05  113.629997           0.002647  \n",
       "2010-01-06  113.709999           0.000704  \n",
       "2010-01-07  114.190002           0.004221  "
      ]
     },
     "execution_count": 4,
     "metadata": {},
     "output_type": "execute_result"
    }
   ],
   "source": [
    "df = pd.DataFrame(data={\n",
    "    'AAPL': aapl['Close'],\n",
    "    'AAPL Daily Returns': daily_returns(aapl['Close']),\n",
    "    'MSFT': msft['Close'],\n",
    "    'MSFT Daily Returns': daily_returns(msft['Close']),\n",
    "    'SPY': spy['Close'],\n",
    "    'SPY Daily Returns': daily_returns(spy['Close']),\n",
    "})\n",
    "\n",
    "df.head()"
   ]
  },
  {
   "cell_type": "code",
   "execution_count": 5,
   "metadata": {
    "collapsed": true
   },
   "outputs": [],
   "source": [
    "def analyze(df, x, y):\n",
    "    lr = LinearRegression()\n",
    "    lr.fit(df['AAPL Daily Returns'].values.reshape(-1, 1), df['MSFT Daily Returns'].values)\n",
    "    df.plot.scatter('AAPL Daily Returns', 'MSFT Daily Returns')\n",
    "    plt.plot(np.linspace(-0.1, 0.1), lr.coef_[0] * np.linspace(-0.1, 0.1), color='r')\n",
    "    plt.show()\n",
    "    \n",
    "    return df[[x, y]].corr()"
   ]
  },
  {
   "cell_type": "code",
   "execution_count": 6,
   "metadata": {
    "scrolled": false
   },
   "outputs": [
    {
     "data": {
      "image/png": "[encoded data removed]",
      "text/plain": [
       "<matplotlib.figure.Figure at 0x7fc9b7de7438>"
      ]
     },
     "metadata": {},
     "output_type": "display_data"
    },
    {
     "data": {
      "text/html": [
       "<div>\n",
       "<style>\n",
       "    .dataframe thead tr:only-child th {\n",
       "        text-align: right;\n",
       "    }\n",
       "\n",
       "    .dataframe thead th {\n",
       "        text-align: left;\n",
       "    }\n",
       "\n",
       "    .dataframe tbody tr th {\n",
       "        vertical-align: top;\n",
       "    }\n",
       "</style>\n",
       "<table border=\"1\" class=\"dataframe\">\n",
       "  <thead>\n",
       "    <tr style=\"text-align: right;\">\n",
       "      <th></th>\n",
       "      <th>AAPL Daily Returns</th>\n",
       "      <th>MSFT Daily Returns</th>\n",
       "    </tr>\n",
       "  </thead>\n",
       "  <tbody>\n",
       "    <tr>\n",
       "      <th>AAPL Daily Returns</th>\n",
       "      <td>1.000000</td>\n",
       "      <td>0.393365</td>\n",
       "    </tr>\n",
       "    <tr>\n",
       "      <th>MSFT Daily Returns</th>\n",
       "      <td>0.393365</td>\n",
       "      <td>1.000000</td>\n",
       "    </tr>\n",
       "  </tbody>\n",
       "</table>\n",
       "</div>"
      ],
      "text/plain": [
       "                    AAPL Daily Returns  MSFT Daily Returns\n",
       "AAPL Daily Returns            1.000000            0.393365\n",
       "MSFT Daily Returns            0.393365            1.000000"
      ]
     },
     "execution_count": 6,
     "metadata": {},
     "output_type": "execute_result"
    }
   ],
   "source": [
    "analyze(df, 'AAPL Daily Returns', 'MSFT Daily Returns')"
   ]
  },
  {
   "cell_type": "code",
   "execution_count": 7,
   "metadata": {},
   "outputs": [
    {
     "data": {
      "image/png": "[encoded data removed]",
      "text/plain": [
       "<matplotlib.figure.Figure at 0x7fc9afb95c18>"
      ]
     },
     "metadata": {},
     "output_type": "display_data"
    },
    {
     "data": {
      "text/html": [
       "<div>\n",
       "<style>\n",
       "    .dataframe thead tr:only-child th {\n",
       "        text-align: right;\n",
       "    }\n",
       "\n",
       "    .dataframe thead th {\n",
       "        text-align: left;\n",
       "    }\n",
       "\n",
       "    .dataframe tbody tr th {\n",
       "        vertical-align: top;\n",
       "    }\n",
       "</style>\n",
       "<table border=\"1\" class=\"dataframe\">\n",
       "  <thead>\n",
       "    <tr style=\"text-align: right;\">\n",
       "      <th></th>\n",
       "      <th>AAPL Daily Returns</th>\n",
       "      <th>SPY Daily Returns</th>\n",
       "    </tr>\n",
       "  </thead>\n",
       "  <tbody>\n",
       "    <tr>\n",
       "      <th>AAPL Daily Returns</th>\n",
       "      <td>1.000000</td>\n",
       "      <td>0.554048</td>\n",
       "    </tr>\n",
       "    <tr>\n",
       "      <th>SPY Daily Returns</th>\n",
       "      <td>0.554048</td>\n",
       "      <td>1.000000</td>\n",
       "    </tr>\n",
       "  </tbody>\n",
       "</table>\n",
       "</div>"
      ],
      "text/plain": [
       "                    AAPL Daily Returns  SPY Daily Returns\n",
       "AAPL Daily Returns            1.000000           0.554048\n",
       "SPY Daily Returns             0.554048           1.000000"
      ]
     },
     "execution_count": 7,
     "metadata": {},
     "output_type": "execute_result"
    }
   ],
   "source": [
    "analyze(df, 'AAPL Daily Returns', 'SPY Daily Returns')"
   ]
  },
  {
   "cell_type": "code",
   "execution_count": 8,
   "metadata": {},
   "outputs": [
    {
     "data": {
      "image/png": "[encoded data removed]",
      "text/plain": [
       "<matplotlib.figure.Figure at 0x7fc9afb1efd0>"
      ]
     },
     "metadata": {},
     "output_type": "display_data"
    },
    {
     "data": {
      "text/html": [
       "<div>\n",
       "<style>\n",
       "    .dataframe thead tr:only-child th {\n",
       "        text-align: right;\n",
       "    }\n",
       "\n",
       "    .dataframe thead th {\n",
       "        text-align: left;\n",
       "    }\n",
       "\n",
       "    .dataframe tbody tr th {\n",
       "        vertical-align: top;\n",
       "    }\n",
       "</style>\n",
       "<table border=\"1\" class=\"dataframe\">\n",
       "  <thead>\n",
       "    <tr style=\"text-align: right;\">\n",
       "      <th></th>\n",
       "      <th>MSFT Daily Returns</th>\n",
       "      <th>SPY Daily Returns</th>\n",
       "    </tr>\n",
       "  </thead>\n",
       "  <tbody>\n",
       "    <tr>\n",
       "      <th>MSFT Daily Returns</th>\n",
       "      <td>1.000000</td>\n",
       "      <td>0.648737</td>\n",
       "    </tr>\n",
       "    <tr>\n",
       "      <th>SPY Daily Returns</th>\n",
       "      <td>0.648737</td>\n",
       "      <td>1.000000</td>\n",
       "    </tr>\n",
       "  </tbody>\n",
       "</table>\n",
       "</div>"
      ],
      "text/plain": [
       "                    MSFT Daily Returns  SPY Daily Returns\n",
       "MSFT Daily Returns            1.000000           0.648737\n",
       "SPY Daily Returns             0.648737           1.000000"
      ]
     },
     "execution_count": 8,
     "metadata": {},
     "output_type": "execute_result"
    }
   ],
   "source": [
    "analyze(df, 'MSFT Daily Returns', 'SPY Daily Returns')"
   ]
  }
 ],
 "metadata": {
  "kernelspec": {
   "display_name": "Python 3",
   "language": "python",
   "name": "python3"
  },
  "language_info": {
   "codemirror_mode": {
    "name": "ipython",
    "version": 3
   },
   "file_extension": ".py",
   "mimetype": "text/x-python",
   "name": "python",
   "nbconvert_exporter": "python",
   "pygments_lexer": "ipython3",
   "version": "3.6.3"
  }
 },
 "nbformat": 4,
 "nbformat_minor": 2
}
